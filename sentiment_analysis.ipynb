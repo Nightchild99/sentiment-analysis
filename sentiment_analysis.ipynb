{
 "cells": [
  {
   "cell_type": "code",
   "execution_count": 54,
   "id": "fbf3f40d-3aa1-4942-aa43-0b6fce42f982",
   "metadata": {},
   "outputs": [],
   "source": [
    "import re\n",
    "import nltk\n",
    "import string\n",
    "import pandas as pd\n",
    "import matplotlib.pyplot as plt\n",
    "\n",
    "from sklearn.model_selection import train_test_split\n",
    "from sklearn.feature_extraction.text import CountVectorizer\n",
    "from sklearn import naive_bayes, linear_model, ensemble, svm\n",
    "from sklearn.metrics import classification_report,accuracy_score"
   ]
  },
  {
   "cell_type": "markdown",
   "id": "a80e5f8e-9d4d-4ad8-8c78-b62953dc4163",
   "metadata": {},
   "source": [
    "LOADING THE DATASET"
   ]
  },
  {
   "cell_type": "code",
   "execution_count": 2,
   "id": "18ef2c0e-8918-4359-8578-5d7807e4ff07",
   "metadata": {},
   "outputs": [
    {
     "data": {
      "text/html": [
       "<div>\n",
       "<style scoped>\n",
       "    .dataframe tbody tr th:only-of-type {\n",
       "        vertical-align: middle;\n",
       "    }\n",
       "\n",
       "    .dataframe tbody tr th {\n",
       "        vertical-align: top;\n",
       "    }\n",
       "\n",
       "    .dataframe thead th {\n",
       "        text-align: right;\n",
       "    }\n",
       "</style>\n",
       "<table border=\"1\" class=\"dataframe\">\n",
       "  <thead>\n",
       "    <tr style=\"text-align: right;\">\n",
       "      <th></th>\n",
       "      <th>Unnamed: 0</th>\n",
       "      <th>sentiment</th>\n",
       "      <th>text</th>\n",
       "    </tr>\n",
       "  </thead>\n",
       "  <tbody>\n",
       "    <tr>\n",
       "      <th>0</th>\n",
       "      <td>3204</td>\n",
       "      <td>sad</td>\n",
       "      <td>agree the poor in india are treated badly thei...</td>\n",
       "    </tr>\n",
       "    <tr>\n",
       "      <th>1</th>\n",
       "      <td>1431</td>\n",
       "      <td>joy</td>\n",
       "      <td>if only i could have spent the with this cutie...</td>\n",
       "    </tr>\n",
       "    <tr>\n",
       "      <th>2</th>\n",
       "      <td>654</td>\n",
       "      <td>joy</td>\n",
       "      <td>will nature conservation remain a priority in ...</td>\n",
       "    </tr>\n",
       "    <tr>\n",
       "      <th>3</th>\n",
       "      <td>2530</td>\n",
       "      <td>sad</td>\n",
       "      <td>coronavirus disappearing in italy show this to...</td>\n",
       "    </tr>\n",
       "    <tr>\n",
       "      <th>4</th>\n",
       "      <td>2296</td>\n",
       "      <td>sad</td>\n",
       "      <td>uk records lowest daily virus death toll since...</td>\n",
       "    </tr>\n",
       "  </tbody>\n",
       "</table>\n",
       "</div>"
      ],
      "text/plain": [
       "   Unnamed: 0 sentiment                                               text\n",
       "0        3204       sad  agree the poor in india are treated badly thei...\n",
       "1        1431       joy  if only i could have spent the with this cutie...\n",
       "2         654       joy  will nature conservation remain a priority in ...\n",
       "3        2530       sad  coronavirus disappearing in italy show this to...\n",
       "4        2296       sad  uk records lowest daily virus death toll since..."
      ]
     },
     "execution_count": 2,
     "metadata": {},
     "output_type": "execute_result"
    }
   ],
   "source": [
    "df = pd.read_csv('./finalSentimentdata2.csv')\n",
    "df.head()"
   ]
  },
  {
   "cell_type": "markdown",
   "id": "9960a5a8-92a6-4652-96c4-18fc58daa497",
   "metadata": {},
   "source": [
    "DATA CLEANING"
   ]
  },
  {
   "cell_type": "code",
   "execution_count": 9,
   "id": "5eaea77c-7da1-42a9-86eb-ca4f0426488a",
   "metadata": {},
   "outputs": [],
   "source": [
    "df['text'] = df['text'].str.lower()\n",
    "df['text'] = df['text'].str.replace(r'\\[.*?\\]', '', regex=True)\n",
    "df['text'] = df['text'].str.replace(r'https?://\\S+|www\\.\\S+', '', regex=True)\n",
    "df['text'] = df['text'].str.replace(r'<.*?>+', '', regex=True)\n",
    "df['text'] = df['text'].str.replace(f\"[{re.escape(string.punctuation)}]\", '', regex=True)\n",
    "df['text'] = df['text'].str.replace(r'\\n', '', regex=True)\n",
    "df['text'] = df['text'].str.replace(r'\\w*\\d\\w*', '', regex=True)"
   ]
  },
  {
   "cell_type": "code",
   "execution_count": 11,
   "id": "95b67f86-f127-4d97-bba5-9135e7a3f6c7",
   "metadata": {},
   "outputs": [
    {
     "data": {
      "text/html": [
       "<div>\n",
       "<style scoped>\n",
       "    .dataframe tbody tr th:only-of-type {\n",
       "        vertical-align: middle;\n",
       "    }\n",
       "\n",
       "    .dataframe tbody tr th {\n",
       "        vertical-align: top;\n",
       "    }\n",
       "\n",
       "    .dataframe thead th {\n",
       "        text-align: right;\n",
       "    }\n",
       "</style>\n",
       "<table border=\"1\" class=\"dataframe\">\n",
       "  <thead>\n",
       "    <tr style=\"text-align: right;\">\n",
       "      <th></th>\n",
       "      <th>Unnamed: 0</th>\n",
       "      <th>sentiment</th>\n",
       "      <th>text</th>\n",
       "    </tr>\n",
       "  </thead>\n",
       "  <tbody>\n",
       "    <tr>\n",
       "      <th>0</th>\n",
       "      <td>3204</td>\n",
       "      <td>sad</td>\n",
       "      <td>agree the poor in india are treated badly thei...</td>\n",
       "    </tr>\n",
       "    <tr>\n",
       "      <th>1</th>\n",
       "      <td>1431</td>\n",
       "      <td>joy</td>\n",
       "      <td>if only i could have spent the with this cutie...</td>\n",
       "    </tr>\n",
       "    <tr>\n",
       "      <th>2</th>\n",
       "      <td>654</td>\n",
       "      <td>joy</td>\n",
       "      <td>will nature conservation remain a priority in ...</td>\n",
       "    </tr>\n",
       "    <tr>\n",
       "      <th>3</th>\n",
       "      <td>2530</td>\n",
       "      <td>sad</td>\n",
       "      <td>coronavirus disappearing in italy show this to...</td>\n",
       "    </tr>\n",
       "    <tr>\n",
       "      <th>4</th>\n",
       "      <td>2296</td>\n",
       "      <td>sad</td>\n",
       "      <td>uk records lowest daily virus death toll since...</td>\n",
       "    </tr>\n",
       "  </tbody>\n",
       "</table>\n",
       "</div>"
      ],
      "text/plain": [
       "   Unnamed: 0 sentiment                                               text\n",
       "0        3204       sad  agree the poor in india are treated badly thei...\n",
       "1        1431       joy  if only i could have spent the with this cutie...\n",
       "2         654       joy  will nature conservation remain a priority in ...\n",
       "3        2530       sad  coronavirus disappearing in italy show this to...\n",
       "4        2296       sad  uk records lowest daily virus death toll since..."
      ]
     },
     "execution_count": 11,
     "metadata": {},
     "output_type": "execute_result"
    }
   ],
   "source": [
    "df['text'] = df['text'].str.replace(\n",
    "    \"[\" +\n",
    "    u\"\\U0001F600-\\U0001F64F\"  # emoticonok\n",
    "    u\"\\U0001F300-\\U0001F5FF\"  # szimbólumok és piktogramok\n",
    "    u\"\\U0001F680-\\U0001F6FF\"  # térkép ikonok\n",
    "    u\"\\U0001F1E0-\\U0001F1FF\"  # zászlók\n",
    "    u\"\\U00002702-\\U000027B0\"  # különleges szimbólumok\n",
    "    u\"\\U000024C2-\\U0001F251\"  # egyéb unicode karakterek\n",
    "    \"]+\",\n",
    "    '',\n",
    "    regex=True\n",
    ")"
   ]
  },
  {
   "cell_type": "markdown",
   "id": "fd70c9c9-640f-4219-afc1-e867b9441928",
   "metadata": {},
   "source": [
    "DATA SPLITTING"
   ]
  },
  {
   "cell_type": "code",
   "execution_count": 17,
   "id": "1db68e25-3f6a-49d6-99e9-ce274d3be49e",
   "metadata": {},
   "outputs": [],
   "source": [
    "train, validation = train_test_split(\n",
    "    df,\n",
    "    test_size = 0.2,\n",
    "    random_state = 0,\n",
    "    stratify = df.sentiment.values\n",
    ")\n",
    "\n",
    "#stratifikáció: a train_test_split módszer olyan részhalmazokat ad vissza, amelyek az \n",
    "#osztálycímkék azonos arányát tartalmazzák, mint a bemeneti adathalmaz"
   ]
  },
  {
   "cell_type": "markdown",
   "id": "d29d20e9-018c-413b-b7be-03b50567b3bd",
   "metadata": {},
   "source": [
    "TEXT VECTORIZATION"
   ]
  },
  {
   "cell_type": "code",
   "execution_count": 22,
   "id": "68ea36df-bad2-4765-b973-36d37e69a777",
   "metadata": {},
   "outputs": [],
   "source": [
    "stopword = list(nltk.corpus.stopwords.words('english'))\n",
    "\n",
    "vectorizer = CountVectorizer(\n",
    "    decode_error = 'replace',\n",
    "    stop_words = stopword\n",
    ")\n",
    "\n",
    "x_train = vectorizer.fit_transform(train.text.values)\n",
    "x_validation = vectorizer.transform(validation.text.values)\n",
    "y_train = train.sentiment.values\n",
    "y_validation = validation.sentiment.values"
   ]
  },
  {
   "cell_type": "markdown",
   "id": "b947ca40-98fb-4c29-b955-6e509db48f56",
   "metadata": {},
   "source": [
    "NAIVE-BAYES"
   ]
  },
  {
   "cell_type": "code",
   "execution_count": 33,
   "id": "1b57c9d8-bf17-4156-a71c-74056013a68f",
   "metadata": {},
   "outputs": [
    {
     "name": "stdout",
     "output_type": "stream",
     "text": [
      "train accuracy:  0.9526699029126213\n",
      "validation accuracy:  0.6779935275080906\n"
     ]
    }
   ],
   "source": [
    "nb_classifier = naive_bayes.MultinomialNB()\n",
    "nb_classifier.fit(x_train, y_train)\n",
    "nb_predict = nb_classifier.predict(x_validation)\n",
    "nb_acc = accuracy_score(y_validation, nb_predict)\n",
    "\n",
    "print('train accuracy: ', nb_classifier.score(x_train, y_train))\n",
    "print('validation accuracy: ', nb_acc)"
   ]
  },
  {
   "cell_type": "markdown",
   "id": "3670c420-a7c8-4aa5-a636-2120f08a2731",
   "metadata": {},
   "source": [
    "SCHOCHASTIC GRADIENT DESCENT"
   ]
  },
  {
   "cell_type": "code",
   "execution_count": 36,
   "id": "a431f623-b9c6-4e3e-b5e6-60bca7253670",
   "metadata": {},
   "outputs": [
    {
     "name": "stdout",
     "output_type": "stream",
     "text": [
      "train accuracy:  0.9991909385113269\n",
      "validation accuracy:  0.6893203883495146\n"
     ]
    }
   ],
   "source": [
    "sgd_classifier = linear_model.SGDClassifier(\n",
    "    loss = 'hinge',\n",
    "    penalty = 'l2',\n",
    "    random_state = 0\n",
    ")\n",
    "sgd_classifier.fit(x_train, y_train)\n",
    "sgd_pred = sgd_classifier.predict(x_validation)\n",
    "sgd_acc = accuracy_score(y_validation, sgd_pred)\n",
    "\n",
    "print('train accuracy: ', sgd_classifier.score(x_train, y_train))\n",
    "print('validation accuracy: ', sgd_acc)"
   ]
  },
  {
   "cell_type": "markdown",
   "id": "4aa7a61c-cea6-4340-8600-b81a2979a641",
   "metadata": {},
   "source": [
    "RANDOM FOREST"
   ]
  },
  {
   "cell_type": "code",
   "execution_count": 39,
   "id": "9ef85c89-c28b-42eb-8c18-6ddaa564492b",
   "metadata": {},
   "outputs": [
    {
     "name": "stdout",
     "output_type": "stream",
     "text": [
      "train accuracy:  1.0\n",
      "validation ccuracy:  0.6294498381877023\n"
     ]
    }
   ],
   "source": [
    "rf_classifier = ensemble.RandomForestClassifier()\n",
    "rf_classifier.fit(x_train, y_train)\n",
    "rf_pred = rf_classifier.predict(x_validation)\n",
    "rf_acc = accuracy_score(y_validation, rf_pred)\n",
    "\n",
    "print('train accuracy: ', rf_classifier.score(x_train, y_train))\n",
    "print('validation ccuracy: ', rf_acc)"
   ]
  },
  {
   "cell_type": "markdown",
   "id": "ccafd243-b691-4cc6-abaa-d0f137445e0b",
   "metadata": {},
   "source": [
    "LOGISTIC REGRESSION"
   ]
  },
  {
   "cell_type": "code",
   "execution_count": 43,
   "id": "f74de5d4-ba7c-4e16-b3a0-538f90f0c6f6",
   "metadata": {},
   "outputs": [
    {
     "name": "stdout",
     "output_type": "stream",
     "text": [
      "train accuracy:  0.9955501618122977\n",
      "validation accuracy:  0.6957928802588996\n"
     ]
    }
   ],
   "source": [
    "lr_classifier = linear_model.LogisticRegression()\n",
    "lr_classifier.fit(x_train, y_train)\n",
    "lr_pred = lr_classifier.predict(x_validation)\n",
    "lr_acc = accuracy_score(y_validation, lr_pred)\n",
    "\n",
    "print('train accuracy: ', lr_classifier.score(x_train, y_train))\n",
    "print('validation accuracy: ', lr_acc)"
   ]
  },
  {
   "cell_type": "markdown",
   "id": "6db2bbd9-3104-49a7-9ac1-1833d3f85171",
   "metadata": {},
   "source": [
    "SUPPORT VECTOR MACHINE"
   ]
  },
  {
   "cell_type": "code",
   "execution_count": 49,
   "id": "a1e23d87-2c4b-4ddd-9559-3e1ffb4bcb35",
   "metadata": {},
   "outputs": [
    {
     "name": "stdout",
     "output_type": "stream",
     "text": [
      "train accuracy:  0.9397249190938511\n",
      "validation accuracy:  0.6197411003236246\n"
     ]
    }
   ],
   "source": [
    "svm_classifier = svm.SVC()\n",
    "svm_classifier.fit(x_train, y_train)\n",
    "svm_pred = svc_classifier.predict(x_validation)\n",
    "svm_acc = accuracy_score(y_validation, svm_pred)\n",
    "\n",
    "print('train accuracy: ', svm_classifier.score(x_train, y_train))\n",
    "print('validation accuracy: ', svm_acc)"
   ]
  },
  {
   "cell_type": "markdown",
   "id": "d9143fae-3137-49ef-abdf-9bba2aa42259",
   "metadata": {},
   "source": [
    "COMPARISION"
   ]
  },
  {
   "cell_type": "code",
   "execution_count": 61,
   "id": "fab577e3-d5d9-4dc6-b048-16f789def8c1",
   "metadata": {},
   "outputs": [
    {
     "data": {
      "image/png": "[encoded data removed]",
      "text/plain": [
       "<Figure size 1500x600 with 1 Axes>"
      ]
     },
     "metadata": {},
     "output_type": "display_data"
    }
   ],
   "source": [
    "labels = ['Naive-Bayes', 'Stochastic Gradient Descent', 'Random Forest',\n",
    "          'Logistic Regression', 'Support Vector Machines']\n",
    "\n",
    "values = [nb_acc, sgd_acc, rf_acc, lr_acc, svm_acc]\n",
    "\n",
    "plt.figure(figsize=(15, 6))\n",
    "plt.bar(labels, values, color='skyblue')\n",
    "plt.xlabel('Classifier')\n",
    "plt.ylabel('Accuracy')\n",
    "\n",
    "for i, j in enumerate(values):\n",
    "    plt.text(i, j, f'{j:.3f}', ha='center')\n",
    "\n",
    "plt.show()"
   ]
  }
 ],
 "metadata": {
  "kernelspec": {
   "display_name": "Python 3 (ipykernel)",
   "language": "python",
   "name": "python3"
  },
  "language_info": {
   "codemirror_mode": {
    "name": "ipython",
    "version": 3
   },
   "file_extension": ".py",
   "mimetype": "text/x-python",
   "name": "python",
   "nbconvert_exporter": "python",
   "pygments_lexer": "ipython3",
   "version": "3.11.7"
  }
 },
 "nbformat": 4,
 "nbformat_minor": 5
}
